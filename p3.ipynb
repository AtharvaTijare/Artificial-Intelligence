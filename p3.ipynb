{
  "nbformat": 4,
  "nbformat_minor": 0,
  "metadata": {
    "colab": {
      "provenance": [],
      "authorship_tag": "ABX9TyPxLxisvss3G3J7jtZMMs4B",
      "include_colab_link": true
    },
    "kernelspec": {
      "name": "python3",
      "display_name": "Python 3"
    },
    "language_info": {
      "name": "python"
    }
  },
  "cells": [
    {
      "cell_type": "markdown",
      "metadata": {
        "id": "view-in-github",
        "colab_type": "text"
      },
      "source": [
        "<a href=\"https://colab.research.google.com/github/AtharvaTijare/Artificial-Intelligence/blob/main/p3.ipynb\" target=\"_parent\"><img src=\"https://colab.research.google.com/assets/colab-badge.svg\" alt=\"Open In Colab\"/></a>"
      ]
    },
    {
      "cell_type": "code",
      "execution_count": 2,
      "metadata": {
        "colab": {
          "base_uri": "https://localhost:8080/"
        },
        "id": "1EP3d2mvBGBt",
        "outputId": "d191e4e2-d948-43c7-aef7-934c31f399ec"
      },
      "outputs": [
        {
          "output_type": "stream",
          "name": "stdout",
          "text": [
            "Learned facts: {4, 12, 15}\n"
          ]
        }
      ],
      "source": [
        "class LogicLearningSystem:\n",
        "    def __init__(self):\n",
        "        self.rules = []      # List to store rule functions\n",
        "        self.examples = []   # List to store data examples\n",
        "\n",
        "    def add_rule(self, rule):\n",
        "        \"\"\"\n",
        "        Add a new rule to the system.\n",
        "        A rule should be a function that returns True/False.\n",
        "        \"\"\"\n",
        "        self.rules.append(rule)\n",
        "\n",
        "    def add_example(self, example):\n",
        "        \"\"\"\n",
        "        Add a new data example for evaluation.\n",
        "        \"\"\"\n",
        "        self.examples.append(example)\n",
        "\n",
        "    def learn(self):\n",
        "        \"\"\"\n",
        "        Apply rules to examples and return those that match at least one rule.\n",
        "        \"\"\"\n",
        "        learned_facts = set()\n",
        "        for example in self.examples:\n",
        "            for rule in self.rules:\n",
        "                if rule(example):\n",
        "                    learned_facts.add(example)\n",
        "                    break  # No need to check further rules once matched\n",
        "        return learned_facts\n",
        "\n",
        "\n",
        "# -----------------------------\n",
        "# Example Usage\n",
        "# -----------------------------\n",
        "if __name__ == \"__main__\":\n",
        "    # Create the learning system\n",
        "    system = LogicLearningSystem()\n",
        "\n",
        "    # Define and add rules\n",
        "    system.add_rule(lambda x: x % 2 == 0)   # Rule 1: Is even\n",
        "    system.add_rule(lambda x: x > 10)       # Rule 2: Greater than 10\n",
        "\n",
        "    # Add example data points\n",
        "    system.add_example(4)     # Even\n",
        "    system.add_example(15)    # > 10\n",
        "    system.add_example(7)     # Neither\n",
        "    system.add_example(12)    # Even and > 10\n",
        "\n",
        "    # Run the learning process\n",
        "    learned = system.learn()\n",
        "\n",
        "    # Display the learned facts\n",
        "    print(\"Learned facts:\", learned)\n"
      ]
    },
    {
      "cell_type": "code",
      "source": [
        "# Here is a **detailed theory** for the practical implementation titled:\n",
        "\n",
        "# ---\n",
        "\n",
        "# ## 🔍 **Implementation of a Basic Logic Learning System**\n",
        "\n",
        "# ### 🔸 **Objective:**\n",
        "\n",
        "# To implement a basic logic-based learning system capable of learning from a set of predefined logical rules and data examples. The system should identify which examples satisfy at least one of the given logical rules and return them as learned facts.\n",
        "\n",
        "# ---\n",
        "\n",
        "# ### 🔸 **Introduction:**\n",
        "\n",
        "# Logic learning systems are foundational in artificial intelligence and knowledge-based systems. They operate on the principle of applying logical rules to data to infer new knowledge. These systems are especially useful in rule-based expert systems, inductive logic programming (ILP), and decision-making frameworks.\n",
        "\n",
        "# ---\n",
        "\n",
        "# ### 🔸 **Concept:**\n",
        "\n",
        "# A **logic learning system** consists of:\n",
        "\n",
        "# * **Rules:** Logical functions or conditions defined by the user (e.g., \"even number\", \"greater than 10\").\n",
        "# * **Examples:** Input data points (numbers, strings, etc.).\n",
        "# * **Learning Mechanism:** A procedure to apply the rules to the examples and determine which examples satisfy the rules.\n",
        "\n",
        "# ---\n",
        "\n",
        "# ### 🔸 **System Design:**\n",
        "\n",
        "# #### 1. **Data Structure:**\n",
        "\n",
        "# * A list to store logical rules (functions that return `True` or `False`).\n",
        "# * A list to store example values (integers, in this case).\n",
        "# * A set to store and return learned facts (examples that match any rule).\n",
        "\n",
        "# #### 2. **Functionality:**\n",
        "\n",
        "# * **add\\_rule(rule):** Adds a logical rule to the system.\n",
        "# * **add\\_example(example):** Adds a data example.\n",
        "# * **learn():** Applies each rule to each example. If any rule is satisfied by an example, that example is added to the list of learned facts.\n",
        "\n",
        "# ---\n",
        "\n",
        "# ### 🔸 **Working Mechanism:**\n",
        "\n",
        "# 1. The system is initialized.\n",
        "# 2. Logical rules are defined and added (e.g., \"x is even\", \"x > 10\").\n",
        "# 3. Data examples are input (e.g., 4, 7, 15, 12).\n",
        "# 4. The system iterates through each example and applies the rules.\n",
        "# 5. If an example satisfies **any** rule, it is considered a **learned fact**.\n",
        "# 6. The final result is a set of all such facts.\n",
        "\n",
        "# ---\n",
        "\n",
        "# ### 🔸 **Advantages:**\n",
        "\n",
        "# * Simple and extensible logic framework.\n",
        "# * Easy to adapt to different types of rules and data formats.\n",
        "# * Can be expanded into more complex AI systems (e.g., expert systems, ILP).\n",
        "\n",
        "# ---\n",
        "\n",
        "# ### 🔸 **Applications:**\n",
        "\n",
        "# * Rule-based expert systems.\n",
        "# * Decision support tools.\n",
        "# * Educational tools for teaching logic and AI.\n",
        "# * Knowledge filtering and categorization.\n",
        "\n",
        "# ---\n",
        "\n",
        "# ### 🔸 **Conclusion:**\n",
        "\n",
        "# This practical demonstrates the fundamentals of logic learning systems. By combining user-defined logical rules with example data, the system can autonomously infer knowledge in the form of learned facts. This forms a core component of symbolic AI, and provides a basis for more advanced learning systems such as knowledge-based agents or logic programming frameworks.\n",
        "\n",
        "# ---\n",
        "\n",
        "# Let me know if you want the same in a summarized form for a viva or a one-pager practical journal!\n"
      ],
      "metadata": {
        "id": "ReOVgq7-BIMo"
      },
      "execution_count": null,
      "outputs": []
    }
  ]
}