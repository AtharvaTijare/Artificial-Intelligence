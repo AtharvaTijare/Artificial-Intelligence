{
  "cells": [
    {
      "cell_type": "markdown",
      "metadata": {
        "id": "view-in-github",
        "colab_type": "text"
      },
      "source": [
        "<a href=\"https://colab.research.google.com/github/AtharvaTijare/Artificial-Intelligence/blob/main/p1.ipynb\" target=\"_parent\"><img src=\"https://colab.research.google.com/assets/colab-badge.svg\" alt=\"Open In Colab\"/></a>"
      ]
    },
    {
      "cell_type": "code",
      "source": [
        "# prompt: Perform bfs,dfs and A* in python\n",
        "\n",
        "from collections import deque\n",
        "import heapq\n",
        "\n",
        "def bfs(graph, start):\n",
        "    \"\"\"\n",
        "    Performs Breadth-First Search on a graph.\n",
        "\n",
        "    Args:\n",
        "        graph: A dictionary representing the graph (adjacency list).\n",
        "        start: The starting node.\n",
        "\n",
        "    Returns:\n",
        "        A dictionary where keys are nodes and values are the predecessors in the BFS path,\n",
        "        or None if the start node is not in the graph.\n",
        "    \"\"\"\n",
        "    if start not in graph:\n",
        "        print(f\"Start node '{start}' not found in graph.\")\n",
        "        return None\n",
        "\n",
        "    visited = set()\n",
        "    queue = deque([start])\n",
        "    parent = {start: None} # To reconstruct path if needed\n",
        "\n",
        "    while queue:\n",
        "        node = queue.popleft()\n",
        "        if node not in visited:\n",
        "            visited.add(node)\n",
        "            if node in graph: # Check if node has neighbors\n",
        "                for neighbor in graph[node]:\n",
        "                    if neighbor not in visited:\n",
        "                        queue.append(neighbor)\n",
        "                        parent[neighbor] = node\n",
        "    return parent\n",
        "\n",
        "def dfs(graph, start, visited=None):\n",
        "    \"\"\"\n",
        "    Performs Depth-First Search on a graph.\n",
        "\n",
        "    Args:\n",
        "        graph: A dictionary representing the graph (adjacency list).\n",
        "        start: The starting node.\n",
        "        visited: A set to keep track of visited nodes (used for recursion).\n",
        "\n",
        "    Returns:\n",
        "        A set of visited nodes during the DFS traversal.\n",
        "    \"\"\"\n",
        "    if visited is None:\n",
        "        visited = set()\n",
        "\n",
        "    if start not in graph:\n",
        "        print(f\"Start node '{start}' not found in graph.\")\n",
        "        return visited\n",
        "\n",
        "    visited.add(start)\n",
        "    if start in graph:\n",
        "        for neighbor in graph[start]:\n",
        "            if neighbor not in visited:\n",
        "                dfs(graph, neighbor, visited)\n",
        "    return visited\n",
        "\n",
        "def astar(graph, start, goal, heuristic):\n",
        "    \"\"\"\n",
        "    Performs A* Search on a graph.\n",
        "\n",
        "    Args:\n",
        "        graph: A dictionary representing the graph (adjacency list).\n",
        "        start: The starting node.\n",
        "        goal: The goal node.\n",
        "        heuristic: A dictionary mapping nodes to their estimated distance to the goal.\n",
        "\n",
        "    Returns:\n",
        "        A list representing the path from start to goal, or None if no path is found.\n",
        "    \"\"\"\n",
        "    if start not in graph or goal not in graph:\n",
        "        print(\"Start or goal node not found in graph.\")\n",
        "        return None\n",
        "    if start not in heuristic or goal not in heuristic:\n",
        "         print(\"Start or goal node not found in heuristic.\")\n",
        "         return None\n",
        "\n",
        "\n",
        "    open_set = [(0, start)]  # Priority queue: (f_score, node)\n",
        "    came_from = {}          # To reconstruct path\n",
        "    g_score = {node: float('inf') for node in graph}\n",
        "    g_score[start] = 0\n",
        "    f_score = {node: float('inf') for node in graph}\n",
        "    f_score[start] = heuristic[start]\n",
        "\n",
        "    while open_set:\n",
        "        current_f, current_node = heapq.heappop(open_set)\n",
        "\n",
        "        if current_node == goal:\n",
        "            path = []\n",
        "            while current_node in came_from:\n",
        "                path.append(current_node)\n",
        "                current_node = came_from[current_node]\n",
        "            path.append(start)\n",
        "            path.reverse()\n",
        "            return path\n",
        "\n",
        "        if current_node in graph:\n",
        "            for neighbor in graph[current_node]:\n",
        "                # Assuming edge weight is 1 for simplicity. Modify here if different weights.\n",
        "                tentative_g_score = g_score[current_node] + 1\n",
        "\n",
        "                if tentative_g_score < g_score[neighbor]:\n",
        "                    came_from[neighbor] = current_node\n",
        "                    g_score[neighbor] = tentative_g_score\n",
        "                    f_score[neighbor] = g_score[neighbor] + heuristic[neighbor]\n",
        "                    heapq.heappush(open_set, (f_score[neighbor], neighbor))\n",
        "\n",
        "    return None # No path found\n",
        "\n",
        "# Example Usage:\n",
        "graph = {\n",
        "    'A': ['B', 'C'],\n",
        "    'B': ['A', 'D', 'E'],\n",
        "    'C': ['A', 'F'],\n",
        "    'D': ['B'],\n",
        "    'E': ['B', 'F'],\n",
        "    'F': ['C', 'E', 'G'],\n",
        "    'G': ['F']\n",
        "}\n",
        "\n",
        "# Heuristic for A* (example, replace with actual heuristic values for your problem)\n",
        "heuristic = {\n",
        "    'A': 7, 'B': 6, 'C': 2, 'D': 8, 'E': 5, 'F': 1, 'G': 0\n",
        "}\n",
        "\n",
        "print(\"BFS:\")\n",
        "bfs_parents = bfs(graph, 'A')\n",
        "if bfs_parents:\n",
        "    print(bfs_parents)\n",
        "\n",
        "print(\"\\nDFS:\")\n",
        "dfs_visited = dfs(graph, 'A')\n",
        "print(dfs_visited)\n",
        "\n",
        "print(\"\\nA* Search:\")\n",
        "astar_path = astar(graph, 'A', 'G', heuristic)\n",
        "if astar_path:\n",
        "    print(\"Path found:\", astar_path)\n",
        "else:\n",
        "    print(\"No path found.\")\n"
      ],
      "metadata": {
        "id": "g-XIA5PSZn4e",
        "outputId": "e612186a-0d66-4306-bcac-53a3f615f19e",
        "colab": {
          "base_uri": "https://localhost:8080/"
        }
      },
      "execution_count": 1,
      "outputs": [
        {
          "output_type": "stream",
          "name": "stdout",
          "text": [
            "BFS:\n",
            "{'A': None, 'B': 'A', 'C': 'A', 'D': 'B', 'E': 'B', 'F': 'E', 'G': 'F'}\n",
            "\n",
            "DFS:\n",
            "{'F', 'B', 'G', 'A', 'E', 'D', 'C'}\n",
            "\n",
            "A* Search:\n",
            "Path found: ['A', 'C', 'F', 'G']\n"
          ]
        }
      ]
    },
    {
      "cell_type": "code",
      "source": [
        "       A\n",
        "     /   \\\n",
        "    B     C\n",
        "   / \\     \\\n",
        "  D   E     F\n",
        "       \\   / \\\n",
        "        ---   G\n"
      ],
      "metadata": {
        "id": "nenJHTAVZtFA"
      },
      "execution_count": null,
      "outputs": []
    },
    {
      "cell_type": "code",
      "source": [],
      "metadata": {
        "id": "DG17srcwZtBd"
      },
      "execution_count": null,
      "outputs": []
    },
    {
      "cell_type": "code",
      "source": [],
      "metadata": {
        "id": "dphgKxYKZs-7"
      },
      "execution_count": null,
      "outputs": []
    },
    {
      "cell_type": "code",
      "source": [],
      "metadata": {
        "id": "9qaP2d4QZs8J"
      },
      "execution_count": null,
      "outputs": []
    },
    {
      "cell_type": "code",
      "source": [],
      "metadata": {
        "id": "GG3Er8b2Zs5r"
      },
      "execution_count": null,
      "outputs": []
    },
    {
      "cell_type": "code",
      "source": [],
      "metadata": {
        "id": "KQJMpMcNZs24"
      },
      "execution_count": null,
      "outputs": []
    },
    {
      "cell_type": "code",
      "source": [],
      "metadata": {
        "id": "VxNPn2EkZs0N"
      },
      "execution_count": null,
      "outputs": []
    },
    {
      "cell_type": "code",
      "source": [],
      "metadata": {
        "id": "XI4LTcJEZsxe"
      },
      "execution_count": null,
      "outputs": []
    },
    {
      "cell_type": "code",
      "source": [],
      "metadata": {
        "id": "q40YixwLZsup"
      },
      "execution_count": null,
      "outputs": []
    },
    {
      "cell_type": "code",
      "source": [],
      "metadata": {
        "id": "N1zrYAoIZssE"
      },
      "execution_count": null,
      "outputs": []
    },
    {
      "cell_type": "code",
      "source": [],
      "metadata": {
        "id": "BSPCtTz5Zspq"
      },
      "execution_count": null,
      "outputs": []
    },
    {
      "cell_type": "code",
      "source": [],
      "metadata": {
        "id": "Pj_No1nwZsm4"
      },
      "execution_count": null,
      "outputs": []
    },
    {
      "cell_type": "code",
      "source": [
        "🧪 Practical 1A: Implement and Compare Different State Space Search Algorithms (A*, BFS, DFS) for Solving Planning Problems\n",
        "✅ Aim:\n",
        "To implement and compare various state space search algorithms such as Breadth-First Search (BFS), Depth-First Search (DFS), and A* Search to solve planning problems like the 8-puzzle problem.\n",
        "\n",
        "📘 Theory\n",
        "🔹 1. What is State Space Search?\n",
        "State space search is a process used in artificial intelligence to explore possible states and transitions of a system in order to solve a problem.\n",
        "\n",
        "The state space consists of:\n",
        "\n",
        "Initial state: Starting point.\n",
        "\n",
        "Goal state: Desired configuration.\n",
        "\n",
        "Successor function: Rules that determine valid moves.\n",
        "\n",
        "Each state is a node in a graph, and transitions represent possible actions.\n",
        "\n",
        "It is widely used in planning problems, games, robotics, etc.\n",
        "\n",
        "🔹 2. Search Algorithms Overview\n",
        "Search algorithms explore the state space to find the path from the initial to the goal state.\n",
        "\n",
        "🔹 3. Breadth-First Search (BFS)\n",
        "Type: Uninformed (blind) search\n",
        "\n",
        "Strategy: Explores all neighbors at the present depth before moving on to nodes at the next depth level.\n",
        "\n",
        "Data Structure: Queue (FIFO)\n",
        "\n",
        "Completeness: Yes – guarantees finding a solution if it exists.\n",
        "\n",
        "Optimality: Yes – finds the shortest path if all step costs are equal.\n",
        "\n",
        "Time Complexity: O(b^d)\n",
        "\n",
        "b: branching factor (number of successors per node)\n",
        "\n",
        "d: depth of the shallowest solution\n",
        "\n",
        "Space Complexity: O(b^d) – stores all nodes at each level.\n",
        "\n",
        "Disadvantages: High memory usage and slow for deep solutions.\n",
        "\n",
        "🔹 4. Depth-First Search (DFS)\n",
        "Type: Uninformed (blind) search\n",
        "\n",
        "Strategy: Explores as deep as possible along a branch before backtracking.\n",
        "\n",
        "Data Structure: Stack (LIFO) or recursion\n",
        "\n",
        "Completeness: No – may get stuck in infinite loops (unless depth-limited).\n",
        "\n",
        "Optimality: No – does not guarantee shortest path.\n",
        "\n",
        "Time Complexity: O(b^m)\n",
        "\n",
        "m: maximum depth of the search tree\n",
        "\n",
        "Space Complexity: O(b*m) – stores only the current path.\n",
        "\n",
        "Advantages: Low memory requirements, fast in some cases.\n",
        "\n",
        "Disadvantages: May miss shallow solutions, not guaranteed to finish.\n",
        "\n",
        "🔹 5. A* Search Algorithm\n",
        "Type: Informed (heuristic-based) search\n",
        "\n",
        "Strategy: Chooses the path that minimizes:\n",
        "f(n) = g(n) + h(n)\n",
        "\n",
        "g(n): cost from start to node n\n",
        "\n",
        "h(n): estimated cost from n to goal (heuristic)\n",
        "\n",
        "Data Structure: Priority queue (based on f(n))\n",
        "\n",
        "Completeness: Yes – will find a solution if one exists.\n",
        "\n",
        "Optimality: Yes – if the heuristic is admissible (never overestimates).\n",
        "\n",
        "Time Complexity: Exponential in the worst case, but efficient with good heuristics.\n",
        "\n",
        "Space Complexity: O(b^d) – can be high due to storing paths and costs.\n",
        "\n",
        "Advantages: Efficient, optimal, and intelligent with good heuristics.\n",
        "\n",
        "Disadvantages: Needs good heuristics; memory intensive.\n",
        "\n",
        "🧩 Example Problem: 8-Puzzle\n",
        "A sliding puzzle with tiles numbered 1 to 8 and one empty space on a 3x3 grid.\n",
        "\n",
        "The goal is to reach a target configuration (goal state) from a given initial state.\n",
        "\n",
        "Valid moves include sliding a tile into the empty space (up/down/left/right)."
      ],
      "metadata": {
        "id": "wl2tKKjDXkzL"
      },
      "execution_count": null,
      "outputs": []
    },
    {
      "cell_type": "code",
      "source": [],
      "metadata": {
        "id": "uIGItgRFXkAB"
      },
      "execution_count": null,
      "outputs": []
    }
  ],
  "metadata": {
    "colab": {
      "name": "Welcome To Colab",
      "toc_visible": true,
      "provenance": [],
      "include_colab_link": true
    },
    "kernelspec": {
      "display_name": "Python 3",
      "name": "python3"
    }
  },
  "nbformat": 4,
  "nbformat_minor": 0
}