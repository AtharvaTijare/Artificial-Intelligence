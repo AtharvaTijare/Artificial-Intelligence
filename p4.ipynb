{
  "nbformat": 4,
  "nbformat_minor": 0,
  "metadata": {
    "colab": {
      "provenance": [],
      "authorship_tag": "ABX9TyOOpjF4XpcoxvsD1TzYd/BI",
      "include_colab_link": true
    },
    "kernelspec": {
      "name": "python3",
      "display_name": "Python 3"
    },
    "language_info": {
      "name": "python"
    }
  },
  "cells": [
    {
      "cell_type": "markdown",
      "metadata": {
        "id": "view-in-github",
        "colab_type": "text"
      },
      "source": [
        "<a href=\"https://colab.research.google.com/github/AtharvaTijare/Artificial-Intelligence/blob/main/p4.ipynb\" target=\"_parent\"><img src=\"https://colab.research.google.com/assets/colab-badge.svg\" alt=\"Open In Colab\"/></a>"
      ]
    },
    {
      "cell_type": "code",
      "execution_count": 1,
      "metadata": {
        "colab": {
          "base_uri": "https://localhost:8080/"
        },
        "id": "0YF_9jBQCopm",
        "outputId": "711b1c92-3886-414f-dad7-fd4fab092950"
      },
      "outputs": [
        {
          "output_type": "stream",
          "name": "stdout",
          "text": [
            "Family generation learned!\n",
            "Anmol (age 50) is the parent of Bhavesh (age 30)\n",
            "Bhavesh (age 30) is the parent of Chatur (age 10)\n",
            "Anmol (age 50) is the grandparent of Chatur (age 10)\n"
          ]
        }
      ],
      "source": [
        "class ILPSystem:\n",
        "    def __init__(self):\n",
        "        self.facts = []\n",
        "\n",
        "    def add_fact(self, predicate, *args):\n",
        "        self.facts.append((predicate, args))\n",
        "\n",
        "    def learn_relations(self):\n",
        "        print(\"Family generation learned!\")\n",
        "        for fact1 in self.facts:\n",
        "            if fact1[0] == \"parent\":\n",
        "                parent, child, parent_age, child_age = fact1[1]\n",
        "                print(f\"{parent} (age {parent_age}) is the parent of {child} (age {child_age})\")\n",
        "                for fact2 in self.facts:\n",
        "                    if fact2[0] == \"parent\" and fact2[1][1] == parent:\n",
        "                        grandparent, _, grandparent_age, _ = fact2[1]\n",
        "                        print(f\"{grandparent} (age {grandparent_age}) is the grandparent of {child} (age {child_age})\")\n",
        "\n",
        "# Usage\n",
        "ilp = ILPSystem()\n",
        "ilp.add_fact(\"parent\", \"Anmol\", \"Bhavesh\", 50, 30)\n",
        "ilp.add_fact(\"parent\", \"Bhavesh\", \"Chatur\", 30, 10)\n",
        "\n",
        "ilp.learn_relations()\n"
      ]
    },
    {
      "cell_type": "code",
      "source": [
        "# Aim - Implement an inductive logic programming system that can learn from first order\n",
        "# logic.\n",
        "# Theory - Inductive Logic Programming (ILP) is a subfield of machine learning that focuses\n",
        "# on learning logical representations (usually in the form of first-order logic rules) from\n",
        "# examples and background knowledge.\n",
        "# Inductive Logic Programming is a field at the intersection of machine learning and logic\n",
        "# programming. Its goal is to learn logical rules—expressed in first-order logic—from observed\n",
        "# data and known background knowledge. Unlike traditional statistical learning, ILP produces\n",
        "# symbolic, interpretable models.\n",
        "# At the heart of ILP lies the problem of inductive inference given a set of known facts\n",
        "# (background knowledge), and a set of positive and negative examples, the learner must\n",
        "# induce a set of logical rules (hypotheses) that explain all the positive examples while\n",
        "# avoiding the negatives.\n",
        "# More formally, the ILP task is to find a hypothesis H such that:\n",
        "# • B∪H⊨E (it explains all positive examples)\n",
        "# • B∪H ⊨E− (it does not entail any negative example)\n",
        "# Here, B is the background knowledge, E+ and E− are the sets of positive and negative\n",
        "# examples, and ⊨\\models⊨ denotes logical entailment.\n",
        "# ILP operates in first-order Horn clause logic. A Horn clause is a rule like:\n",
        "\n",
        "# This says that X is a grandparent of Z if X is a parent of Y and Y is a parent of Z.\n",
        "# Learning in ILP is a search problem over a space of possible rules. This space is defined by\n",
        "# the language bias, which constrains the form of clauses (e.g., which predicates can be used,\n",
        "# how many literals per clause). To search this space, ILP systems use refinement operators and\n",
        "# techniques like inverse entailment or least general generalization.\n",
        "# ILP is distinct from other machine learning paradigms because it allows the integration of\n",
        "# prior knowledge, handles relational data, and produces explainable models. It is especially\n",
        "# useful in domains like bioinformatics, natural language processing, and knowledge discovery.\n",
        "# grandparent (X, Z) :- parent(X, Y), parent(Y, Z)."
      ],
      "metadata": {
        "id": "IDk6P60bC1Fk"
      },
      "execution_count": null,
      "outputs": []
    }
  ]
}