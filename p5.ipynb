{
  "nbformat": 4,
  "nbformat_minor": 0,
  "metadata": {
    "colab": {
      "provenance": [],
      "authorship_tag": "ABX9TyP7S3KE3dkZhSxy8rW+oxg3",
      "include_colab_link": true
    },
    "kernelspec": {
      "name": "python3",
      "display_name": "Python 3"
    },
    "language_info": {
      "name": "python"
    }
  },
  "cells": [
    {
      "cell_type": "markdown",
      "metadata": {
        "id": "view-in-github",
        "colab_type": "text"
      },
      "source": [
        "<a href=\"https://colab.research.google.com/github/AtharvaTijare/Artificial-Intelligence/blob/main/p5.ipynb\" target=\"_parent\"><img src=\"https://colab.research.google.com/assets/colab-badge.svg\" alt=\"Open In Colab\"/></a>"
      ]
    },
    {
      "cell_type": "code",
      "execution_count": 1,
      "metadata": {
        "colab": {
          "base_uri": "https://localhost:8080/",
          "height": 462
        },
        "id": "E_EmPsUlD4JY",
        "outputId": "40135a94-2b22-439c-bfef-b870e8ffc003"
      },
      "outputs": [
        {
          "output_type": "stream",
          "name": "stdout",
          "text": [
            "Shortest path: [(0, 0), (0, 1), (1, 1), (2, 1), (3, 1), (3, 2), (4, 2), (4, 3), (4, 4)]\n"
          ]
        },
        {
          "output_type": "display_data",
          "data": {
            "text/plain": [
              "<Figure size 500x500 with 1 Axes>"
            ],
            "image/png": "[encoded data removed]"
          },
          "metadata": {}
        }
      ],
      "source": [
        "import numpy as np\n",
        "import random\n",
        "import matplotlib.pyplot as plt\n",
        "\n",
        "# Define the grid world\n",
        "grid_size = (5, 5)\n",
        "num_actions = 4  # Up, Down, Left, Right\n",
        "gamma = 0.9  # Discount factor\n",
        "alpha = 0.1  # Learning rate\n",
        "epsilon = 0.1  # Exploration rate\n",
        "\n",
        "goal_state = (4, 4)\n",
        "obstacles = [(2, 2), (3, 3)]\n",
        "\n",
        "def is_valid_state(state):\n",
        "    return (0 <= state[0] < grid_size[0] and 0 <= state[1] < grid_size[1] and state not in obstacles)\n",
        "\n",
        "def get_next_state(state, action):\n",
        "    moves = [(-1, 0), (1, 0), (0, -1), (0, 1)]  # Up, Down, Left, Right\n",
        "    next_state = (state[0] + moves[action][0], state[1] + moves[action][1])\n",
        "    return state if not is_valid_state(next_state) else next_state\n",
        "\n",
        "def get_reward(state):\n",
        "    if state == goal_state:\n",
        "        return 100  # Reward for reaching goal\n",
        "    return -1  # Small penalty to encourage shortest path\n",
        "\n",
        "# Initialize Q-table\n",
        "Q = np.zeros(grid_size + (num_actions,))\n",
        "\n",
        "# Q-learning algorithm\n",
        "def q_learning(episodes=1000):\n",
        "    for episode in range(episodes):\n",
        "        state = (0, 0)  # Start position\n",
        "        while state != goal_state:\n",
        "            if random.uniform(0, 1) < epsilon:\n",
        "                action = random.choice(range(num_actions))  # Explore\n",
        "            else:\n",
        "                action = np.argmax(Q[state])  # Exploit\n",
        "\n",
        "            next_state = get_next_state(state, action)\n",
        "            reward = get_reward(next_state)\n",
        "\n",
        "            # Q-learning update rule\n",
        "            Q[state][action] = (1 - alpha) * Q[state][action] + alpha * (reward + gamma * np.max(Q[next_state]))\n",
        "            state = next_state\n",
        "\n",
        "q_learning()\n",
        "\n",
        "# Display shortest path and plot it\n",
        "def display_shortest_path():\n",
        "    state = (0, 0)\n",
        "    path = [state]\n",
        "    while state != goal_state:\n",
        "        action = np.argmax(Q[state])\n",
        "        next_state = get_next_state(state, action)\n",
        "        if next_state == state:  # Prevent infinite loops\n",
        "            break\n",
        "        path.append(next_state)\n",
        "        state = next_state\n",
        "    print(\"Shortest path:\", path)\n",
        "\n",
        "    # Plot the grid and path\n",
        "    fig, ax = plt.subplots(figsize=(5, 5))\n",
        "    ax.set_xticks(range(grid_size[1] + 1))\n",
        "    ax.set_yticks(range(grid_size[0] + 1))\n",
        "    ax.grid(True)\n",
        "    ax.set_xlim(-0.5, grid_size[1] - 0.5)\n",
        "    ax.set_ylim(-0.5, grid_size[0] - 0.5)\n",
        "    ax.invert_yaxis()\n",
        "\n",
        "    # Mark goal\n",
        "    ax.add_patch(plt.Rectangle(goal_state[::-1], 1, 1, color='green', alpha=0.5, label='Goal'))\n",
        "\n",
        "    # Mark obstacles\n",
        "    for obs in obstacles:\n",
        "        ax.add_patch(plt.Rectangle(obs[::-1], 1, 1, color='red', alpha=0.5, label='Obstacle' if obs == obstacles[0] else \"\"))\n",
        "\n",
        "    # Plot the path\n",
        "    x_vals, y_vals = zip(*path)\n",
        "    ax.plot(y_vals, x_vals, marker='o', color='blue', label='Path')\n",
        "\n",
        "    plt.legend()\n",
        "    plt.show()\n",
        "\n",
        "display_shortest_path()\n"
      ]
    },
    {
      "cell_type": "code",
      "source": [
        "# Q-Learning algorithm:\n",
        "# Q-Learning is a model-free reinforcement learning algorithm used to find the optimal\n",
        "# action-selection policy for a given environment. It enables an agent to learn how to act\n",
        "# optimally in a Markov Decision Process (MDP), even without knowing the environment's model.\n",
        "\n",
        "# How It works:\n",
        "# • Q-Learning learns a Q-value (quality) for each state-action pair.\n",
        "# • The agent interacts with the environment, observes rewards and transitions, and updates\n",
        "# the Q- values.\n",
        "# • It uses the Bellman Equation to iteratively update Q-values.\n",
        "# Q-value Formula:\n",
        "# Q(s,a)←Q(s,a)+α[r+γa′maxQ(s′,a′)−Q(s,a)]\n",
        "# Where:\n",
        "# • s: current state\n",
        "# • a: action taken\n",
        "# • r: reward received\n",
        "# • s': next state\n",
        "# • α: learning rate (0 to 1)\n",
        "# • γ: discount factor (importance of future rewards)\n",
        "\n",
        "# Advantages:\n",
        "# • Model-free: Does not require knowledge of the environment's transition probabilities.\n",
        "# • Simple and easy to implement.\n",
        "# • Converges to optimal policy with sufficient exploration and time.\n",
        "# • Works well in discrete state-action spaces.\n",
        "# • Supports off-policy learning, allowing flexibility in exploration strategies.\n",
        "# Disadvantages:\n",
        "# • Inefficient in large or continuous state spaces (needs large Q-tables).\n",
        "# • Slow convergence in complex environments.\n",
        "# • Requires good tuning of parameters (learning rate, discount factor, ε).\n",
        "# • Doesn’t generalize — each state-action pair must be visited multiple times.\n",
        "# • Struggles with non-stationary environments.\n",
        "\n",
        "# Applications\n",
        "# • Game AI (e.g., learning to play games like Tic-Tac-Toe, Grid World, Pac-Man)\n",
        "# • Robotics (e.g., path planning, navigation, control)\n",
        "# • Autonomous agents in simulations\n",
        "# • Network routing and load balancing\n",
        "# • Finance (e.g., stock trading bots)\n",
        "# • Recommendation systems (learning user preferences)"
      ],
      "metadata": {
        "id": "je0lxzePD7t6"
      },
      "execution_count": null,
      "outputs": []
    }
  ]
}